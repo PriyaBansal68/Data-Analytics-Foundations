{
  "cells": [
    {
      "cell_type": "markdown",
      "metadata": {
        "id": "view-in-github",
        "colab_type": "text"
      },
      "source": [
        "<a href=\"https://colab.research.google.com/github/PriyaBansal68/Data-Analytics-Foundations/blob/main/DA_Assignment_02.ipynb\" target=\"_parent\"><img src=\"https://colab.research.google.com/assets/colab-badge.svg\" alt=\"Open In Colab\"/></a>"
      ]
    },
    {
      "cell_type": "code",
      "execution_count": 5,
      "id": "technical-wells",
      "metadata": {
        "id": "technical-wells"
      },
      "outputs": [],
      "source": [
        "#Importing the necessary libraries\n",
        "import pandas as pd\n",
        "import numpy as np\n",
        "import seaborn as sns\n",
        "import matplotlib.pyplot as plt\n",
        "%matplotlib inline"
      ]
    },
    {
      "cell_type": "code",
      "execution_count": 6,
      "id": "reverse-airport",
      "metadata": {
        "id": "reverse-airport"
      },
      "outputs": [],
      "source": [
        "from tensorflow.keras.datasets import fashion_mnist\n",
        "#Splitting the data into train test sets\n",
        "(X_train, y_train), (X_test, y_test) = fashion_mnist.load_data()"
      ]
    },
    {
      "cell_type": "code",
      "execution_count": 7,
      "id": "architectural-programming",
      "metadata": {
        "colab": {
          "base_uri": "https://localhost:8080/"
        },
        "id": "architectural-programming",
        "outputId": "76531804-68bf-4620-82ce-f3863810a242"
      },
      "outputs": [
        {
          "output_type": "stream",
          "name": "stdout",
          "text": [
            "X_train:  (60000, 28, 28)\n",
            "\n",
            "\n",
            "y_train:  (60000,)\n",
            "\n",
            "\n",
            "X_test:  (10000, 28, 28)\n",
            "\n",
            "\n",
            "y_test:  (10000,)\n"
          ]
        }
      ],
      "source": [
        "print(\"X_train: \",X_train.shape)\n",
        "print(\"\\n\")\n",
        "print(\"y_train: \",y_train.shape)\n",
        "print(\"\\n\")\n",
        "print(\"X_test: \",X_test.shape)\n",
        "print(\"\\n\")\n",
        "print(\"y_test: \",y_test.shape)"
      ]
    },
    {
      "cell_type": "code",
      "execution_count": 8,
      "id": "still-patent",
      "metadata": {
        "colab": {
          "base_uri": "https://localhost:8080/"
        },
        "id": "still-patent",
        "outputId": "6eb757c7-a74f-4f20-8996-a7a5ff0b7560"
      },
      "outputs": [
        {
          "output_type": "execute_result",
          "data": {
            "text/plain": [
              "array([9, 2, 1, ..., 8, 1, 5], dtype=uint8)"
            ]
          },
          "metadata": {},
          "execution_count": 8
        }
      ],
      "source": [
        "#X_train[0]\n",
        "#y_train\n",
        "y_test"
      ]
    },
    {
      "cell_type": "code",
      "execution_count": 9,
      "id": "bulgarian-carnival",
      "metadata": {
        "colab": {
          "base_uri": "https://localhost:8080/"
        },
        "id": "bulgarian-carnival",
        "outputId": "68d9173f-29eb-41df-b128-47c67955eac7"
      },
      "outputs": [
        {
          "output_type": "execute_result",
          "data": {
            "text/plain": [
              "array([[  0,   0,   0,   0,   0,   0,   0,   0,   0,   0,   0,   0,   0,\n",
              "          0,   0,   0,   0,   0,   0,   0,   0,   0,   0,   0,   0,   0,\n",
              "          0,   0],\n",
              "       [  0,   0,   0,   0,   0,   0,   0,   0,   0,   0,   0,   0,   0,\n",
              "          0,   0,   0,   0,   0,   0,   0,   0,   0,   0,   0,   0,   0,\n",
              "          0,   0],\n",
              "       [  0,   0,   0,   0,   0,   0,   0,   0,   0,   0,   0,   0,   0,\n",
              "          0,   0,   0,   0,   0,   0,   0,   0,   0,   0,   0,   0,   0,\n",
              "          0,   0],\n",
              "       [  0,   0,   0,   0,   0,   0,   0,   0,   0,   0,   0,   0,   1,\n",
              "          0,   0,  13,  73,   0,   0,   1,   4,   0,   0,   0,   0,   1,\n",
              "          1,   0],\n",
              "       [  0,   0,   0,   0,   0,   0,   0,   0,   0,   0,   0,   0,   3,\n",
              "          0,  36, 136, 127,  62,  54,   0,   0,   0,   1,   3,   4,   0,\n",
              "          0,   3],\n",
              "       [  0,   0,   0,   0,   0,   0,   0,   0,   0,   0,   0,   0,   6,\n",
              "          0, 102, 204, 176, 134, 144, 123,  23,   0,   0,   0,   0,  12,\n",
              "         10,   0],\n",
              "       [  0,   0,   0,   0,   0,   0,   0,   0,   0,   0,   0,   0,   0,\n",
              "          0, 155, 236, 207, 178, 107, 156, 161, 109,  64,  23,  77, 130,\n",
              "         72,  15],\n",
              "       [  0,   0,   0,   0,   0,   0,   0,   0,   0,   0,   0,   1,   0,\n",
              "         69, 207, 223, 218, 216, 216, 163, 127, 121, 122, 146, 141,  88,\n",
              "        172,  66],\n",
              "       [  0,   0,   0,   0,   0,   0,   0,   0,   0,   1,   1,   1,   0,\n",
              "        200, 232, 232, 233, 229, 223, 223, 215, 213, 164, 127, 123, 196,\n",
              "        229,   0],\n",
              "       [  0,   0,   0,   0,   0,   0,   0,   0,   0,   0,   0,   0,   0,\n",
              "        183, 225, 216, 223, 228, 235, 227, 224, 222, 224, 221, 223, 245,\n",
              "        173,   0],\n",
              "       [  0,   0,   0,   0,   0,   0,   0,   0,   0,   0,   0,   0,   0,\n",
              "        193, 228, 218, 213, 198, 180, 212, 210, 211, 213, 223, 220, 243,\n",
              "        202,   0],\n",
              "       [  0,   0,   0,   0,   0,   0,   0,   0,   0,   1,   3,   0,  12,\n",
              "        219, 220, 212, 218, 192, 169, 227, 208, 218, 224, 212, 226, 197,\n",
              "        209,  52],\n",
              "       [  0,   0,   0,   0,   0,   0,   0,   0,   0,   0,   6,   0,  99,\n",
              "        244, 222, 220, 218, 203, 198, 221, 215, 213, 222, 220, 245, 119,\n",
              "        167,  56],\n",
              "       [  0,   0,   0,   0,   0,   0,   0,   0,   0,   4,   0,   0,  55,\n",
              "        236, 228, 230, 228, 240, 232, 213, 218, 223, 234, 217, 217, 209,\n",
              "         92,   0],\n",
              "       [  0,   0,   1,   4,   6,   7,   2,   0,   0,   0,   0,   0, 237,\n",
              "        226, 217, 223, 222, 219, 222, 221, 216, 223, 229, 215, 218, 255,\n",
              "         77,   0],\n",
              "       [  0,   3,   0,   0,   0,   0,   0,   0,   0,  62, 145, 204, 228,\n",
              "        207, 213, 221, 218, 208, 211, 218, 224, 223, 219, 215, 224, 244,\n",
              "        159,   0],\n",
              "       [  0,   0,   0,   0,  18,  44,  82, 107, 189, 228, 220, 222, 217,\n",
              "        226, 200, 205, 211, 230, 224, 234, 176, 188, 250, 248, 233, 238,\n",
              "        215,   0],\n",
              "       [  0,  57, 187, 208, 224, 221, 224, 208, 204, 214, 208, 209, 200,\n",
              "        159, 245, 193, 206, 223, 255, 255, 221, 234, 221, 211, 220, 232,\n",
              "        246,   0],\n",
              "       [  3, 202, 228, 224, 221, 211, 211, 214, 205, 205, 205, 220, 240,\n",
              "         80, 150, 255, 229, 221, 188, 154, 191, 210, 204, 209, 222, 228,\n",
              "        225,   0],\n",
              "       [ 98, 233, 198, 210, 222, 229, 229, 234, 249, 220, 194, 215, 217,\n",
              "        241,  65,  73, 106, 117, 168, 219, 221, 215, 217, 223, 223, 224,\n",
              "        229,  29],\n",
              "       [ 75, 204, 212, 204, 193, 205, 211, 225, 216, 185, 197, 206, 198,\n",
              "        213, 240, 195, 227, 245, 239, 223, 218, 212, 209, 222, 220, 221,\n",
              "        230,  67],\n",
              "       [ 48, 203, 183, 194, 213, 197, 185, 190, 194, 192, 202, 214, 219,\n",
              "        221, 220, 236, 225, 216, 199, 206, 186, 181, 177, 172, 181, 205,\n",
              "        206, 115],\n",
              "       [  0, 122, 219, 193, 179, 171, 183, 196, 204, 210, 213, 207, 211,\n",
              "        210, 200, 196, 194, 191, 195, 191, 198, 192, 176, 156, 167, 177,\n",
              "        210,  92],\n",
              "       [  0,   0,  74, 189, 212, 191, 175, 172, 175, 181, 185, 188, 189,\n",
              "        188, 193, 198, 204, 209, 210, 210, 211, 188, 188, 194, 192, 216,\n",
              "        170,   0],\n",
              "       [  2,   0,   0,   0,  66, 200, 222, 237, 239, 242, 246, 243, 244,\n",
              "        221, 220, 193, 191, 179, 182, 182, 181, 176, 166, 168,  99,  58,\n",
              "          0,   0],\n",
              "       [  0,   0,   0,   0,   0,   0,   0,  40,  61,  44,  72,  41,  35,\n",
              "          0,   0,   0,   0,   0,   0,   0,   0,   0,   0,   0,   0,   0,\n",
              "          0,   0],\n",
              "       [  0,   0,   0,   0,   0,   0,   0,   0,   0,   0,   0,   0,   0,\n",
              "          0,   0,   0,   0,   0,   0,   0,   0,   0,   0,   0,   0,   0,\n",
              "          0,   0],\n",
              "       [  0,   0,   0,   0,   0,   0,   0,   0,   0,   0,   0,   0,   0,\n",
              "          0,   0,   0,   0,   0,   0,   0,   0,   0,   0,   0,   0,   0,\n",
              "          0,   0]], dtype=uint8)"
            ]
          },
          "metadata": {},
          "execution_count": 9
        }
      ],
      "source": [
        "X_train[0]"
      ]
    },
    {
      "cell_type": "code",
      "execution_count": 10,
      "id": "recorded-darkness",
      "metadata": {
        "colab": {
          "base_uri": "https://localhost:8080/",
          "height": 282
        },
        "id": "recorded-darkness",
        "outputId": "49a92c0a-2ed1-43ad-e704-375f8140e21d"
      },
      "outputs": [
        {
          "output_type": "execute_result",
          "data": {
            "text/plain": [
              "<matplotlib.image.AxesImage at 0x7f47539da650>"
            ]
          },
          "metadata": {},
          "execution_count": 10
        },
        {
          "output_type": "display_data",
          "data": {
            "text/plain": [
              "<Figure size 432x288 with 1 Axes>"
            ],
            "image/png": "[encoded data removed]"
          },
          "metadata": {
            "needs_background": "light"
          }
        }
      ],
      "source": [
        "plt.imshow(X_train[0])"
      ]
    },
    {
      "cell_type": "code",
      "execution_count": 11,
      "id": "attractive-synthetic",
      "metadata": {
        "colab": {
          "base_uri": "https://localhost:8080/"
        },
        "id": "attractive-synthetic",
        "outputId": "1c88d54b-3202-4fa2-971c-6fda5e77bab3"
      },
      "outputs": [
        {
          "output_type": "execute_result",
          "data": {
            "text/plain": [
              "9"
            ]
          },
          "metadata": {},
          "execution_count": 11
        }
      ],
      "source": [
        "y_train[0]"
      ]
    },
    {
      "cell_type": "code",
      "execution_count": 12,
      "id": "objective-symbol",
      "metadata": {
        "id": "objective-symbol"
      },
      "outputs": [],
      "source": [
        "y_attributes = [\"T-shirt/top\",\"Trouser\",\"Pullover\",\"Dress\",\"Coat\",\"Sandal\",\"Shirt\",\"Sneaker\",\"Bag\",\"Ankle boot\"]"
      ]
    },
    {
      "cell_type": "code",
      "execution_count": 13,
      "id": "mineral-recovery",
      "metadata": {
        "id": "mineral-recovery"
      },
      "outputs": [],
      "source": [
        "def plot_sample(X, y, index):\n",
        "    plt.figure(figsize = (10,3))\n",
        "    plt.imshow(X[index])\n",
        "    plt.xlabel(y_attributes[y[index]])"
      ]
    },
    {
      "cell_type": "code",
      "execution_count": 14,
      "id": "pleased-homework",
      "metadata": {
        "colab": {
          "base_uri": "https://localhost:8080/",
          "height": 226
        },
        "id": "pleased-homework",
        "outputId": "12a3190b-7bcd-4421-fb40-8eff62d14d0d"
      },
      "outputs": [
        {
          "output_type": "display_data",
          "data": {
            "text/plain": [
              "<Figure size 720x216 with 1 Axes>"
            ],
            "image/png": "[encoded data removed]"
          },
          "metadata": {
            "needs_background": "light"
          }
        }
      ],
      "source": [
        "plot_sample(X_train, y_train, 1)"
      ]
    },
    {
      "cell_type": "code",
      "execution_count": 15,
      "id": "intimate-perspective",
      "metadata": {
        "colab": {
          "base_uri": "https://localhost:8080/",
          "height": 226
        },
        "id": "intimate-perspective",
        "outputId": "ce245569-4dbc-4b18-90d4-0213ea68dcce"
      },
      "outputs": [
        {
          "output_type": "display_data",
          "data": {
            "text/plain": [
              "<Figure size 720x216 with 1 Axes>"
            ],
            "image/png": "[encoded data removed]"
          },
          "metadata": {
            "needs_background": "light"
          }
        }
      ],
      "source": [
        "plot_sample(X_train, y_train, 6)"
      ]
    },
    {
      "cell_type": "code",
      "execution_count": 16,
      "id": "collective-transmission",
      "metadata": {
        "id": "collective-transmission"
      },
      "outputs": [],
      "source": [
        "# Normalize the data\n",
        "X_train = X_train/255\n",
        "X_test = X_test/255"
      ]
    },
    {
      "cell_type": "code",
      "execution_count": 17,
      "id": "wicked-contrary",
      "metadata": {
        "id": "wicked-contrary"
      },
      "outputs": [],
      "source": [
        "#from tensorflow.keras.utils import to_categorical"
      ]
    },
    {
      "cell_type": "code",
      "execution_count": 18,
      "id": "extensive-vietnam",
      "metadata": {
        "id": "extensive-vietnam"
      },
      "outputs": [],
      "source": [
        "#y_train"
      ]
    },
    {
      "cell_type": "code",
      "execution_count": 19,
      "id": "special-happiness",
      "metadata": {
        "id": "special-happiness"
      },
      "outputs": [],
      "source": [
        "#y_categorical_train = to_categorical(y_train)"
      ]
    },
    {
      "cell_type": "code",
      "execution_count": 20,
      "id": "blessed-oklahoma",
      "metadata": {
        "id": "blessed-oklahoma"
      },
      "outputs": [],
      "source": [
        "#y_categorical_train"
      ]
    },
    {
      "cell_type": "code",
      "execution_count": 21,
      "id": "unable-budget",
      "metadata": {
        "id": "unable-budget"
      },
      "outputs": [],
      "source": [
        "#y_categorical_test = to_categorical(y_test)"
      ]
    },
    {
      "cell_type": "code",
      "execution_count": 22,
      "id": "normal-discretion",
      "metadata": {
        "id": "normal-discretion"
      },
      "outputs": [],
      "source": [
        "#X_train.shape"
      ]
    },
    {
      "cell_type": "code",
      "execution_count": 23,
      "id": "caring-television",
      "metadata": {
        "id": "caring-television"
      },
      "outputs": [],
      "source": [
        "X_train = X_train.reshape(60000,28,28,1)\n",
        "X_test = X_test.reshape(10000,28,28,1)"
      ]
    },
    {
      "cell_type": "code",
      "execution_count": 24,
      "id": "hungarian-pacific",
      "metadata": {
        "id": "hungarian-pacific"
      },
      "outputs": [],
      "source": [
        "#from tensorflow.keras.models import Sequential\n",
        "#from tensorflow.keras.layers import Dense, Flatten\n",
        "import tensorflow as tf\n",
        "from tensorflow.keras import datasets, layers, models"
      ]
    },
    {
      "cell_type": "code",
      "execution_count": 25,
      "id": "white-honolulu",
      "metadata": {
        "id": "white-honolulu"
      },
      "outputs": [],
      "source": [
        "ann_model = models.Sequential([\n",
        "        layers.Flatten(input_shape=(28,28,1)),\n",
        "        layers.Dense(32, activation='relu'),\n",
        "        layers.Dense(10, activation='softmax')    \n",
        "    ])\n",
        "\n",
        "ann_model.compile(optimizer='SGD',\n",
        "              loss='sparse_categorical_crossentropy',\n",
        "              metrics=['accuracy'])\n"
      ]
    },
    {
      "cell_type": "code",
      "execution_count": 26,
      "id": "broke-raleigh",
      "metadata": {
        "colab": {
          "base_uri": "https://localhost:8080/"
        },
        "id": "broke-raleigh",
        "outputId": "d7ea8fd3-05cc-4bd9-94d5-75b776bbd598"
      },
      "outputs": [
        {
          "output_type": "stream",
          "name": "stdout",
          "text": [
            "Model: \"sequential\"\n",
            "_________________________________________________________________\n",
            " Layer (type)                Output Shape              Param #   \n",
            "=================================================================\n",
            " flatten (Flatten)           (None, 784)               0         \n",
            "                                                                 \n",
            " dense (Dense)               (None, 32)                25120     \n",
            "                                                                 \n",
            " dense_1 (Dense)             (None, 10)                330       \n",
            "                                                                 \n",
            "=================================================================\n",
            "Total params: 25,450\n",
            "Trainable params: 25,450\n",
            "Non-trainable params: 0\n",
            "_________________________________________________________________\n"
          ]
        }
      ],
      "source": [
        "ann_model.summary()"
      ]
    },
    {
      "cell_type": "code",
      "execution_count": 27,
      "id": "previous-biology",
      "metadata": {
        "colab": {
          "base_uri": "https://localhost:8080/"
        },
        "id": "previous-biology",
        "outputId": "bde40959-2166-495d-b124-04d98594578d"
      },
      "outputs": [
        {
          "output_type": "stream",
          "name": "stdout",
          "text": [
            "Epoch 1/5\n",
            "1875/1875 [==============================] - 6s 3ms/step - loss: 0.7953 - accuracy: 0.7427 - val_loss: 0.5946 - val_accuracy: 0.7967\n",
            "Epoch 2/5\n",
            "1875/1875 [==============================] - 5s 3ms/step - loss: 0.5324 - accuracy: 0.8181 - val_loss: 0.5249 - val_accuracy: 0.8209\n",
            "Epoch 3/5\n",
            "1875/1875 [==============================] - 5s 3ms/step - loss: 0.4845 - accuracy: 0.8331 - val_loss: 0.5025 - val_accuracy: 0.8232\n",
            "Epoch 4/5\n",
            "1875/1875 [==============================] - 5s 2ms/step - loss: 0.4600 - accuracy: 0.8404 - val_loss: 0.4880 - val_accuracy: 0.8293\n",
            "Epoch 5/5\n",
            "1875/1875 [==============================] - 4s 2ms/step - loss: 0.4446 - accuracy: 0.8455 - val_loss: 0.4798 - val_accuracy: 0.8312\n"
          ]
        },
        {
          "output_type": "execute_result",
          "data": {
            "text/plain": [
              "<keras.callbacks.History at 0x7f474f0c0550>"
            ]
          },
          "metadata": {},
          "execution_count": 27
        }
      ],
      "source": [
        "ann_model.fit(X_train, y_train, epochs=5, validation_data=(X_test, y_test))"
      ]
    },
    {
      "cell_type": "code",
      "execution_count": 28,
      "id": "resident-diary",
      "metadata": {
        "id": "resident-diary"
      },
      "outputs": [],
      "source": [
        "ann_model = models.Sequential([\n",
        "        layers.Flatten(input_shape=(28,28,1)),\n",
        "        layers.Dense(264, activation='relu'),\n",
        "        layers.Dense(10, activation='softmax')    \n",
        "    ])\n",
        "\n",
        "ann_model.compile(optimizer='SGD',\n",
        "              loss='sparse_categorical_crossentropy',\n",
        "              metrics=['accuracy'])"
      ]
    },
    {
      "cell_type": "code",
      "execution_count": 29,
      "id": "civil-scout",
      "metadata": {
        "colab": {
          "base_uri": "https://localhost:8080/"
        },
        "id": "civil-scout",
        "outputId": "486ab12c-7825-430b-fa79-3bcf752382f5"
      },
      "outputs": [
        {
          "output_type": "stream",
          "name": "stdout",
          "text": [
            "Epoch 1/10\n",
            "1875/1875 [==============================] - 9s 4ms/step - loss: 0.7334 - accuracy: 0.7655 - val_loss: 0.5689 - val_accuracy: 0.8048\n",
            "Epoch 2/10\n",
            "1875/1875 [==============================] - 11s 6ms/step - loss: 0.5079 - accuracy: 0.8286 - val_loss: 0.5032 - val_accuracy: 0.8262\n",
            "Epoch 3/10\n",
            "1875/1875 [==============================] - 8s 4ms/step - loss: 0.4645 - accuracy: 0.8398 - val_loss: 0.4774 - val_accuracy: 0.8347\n",
            "Epoch 4/10\n",
            "1875/1875 [==============================] - 8s 4ms/step - loss: 0.4380 - accuracy: 0.8490 - val_loss: 0.4675 - val_accuracy: 0.8341\n",
            "Epoch 5/10\n",
            "1875/1875 [==============================] - 9s 5ms/step - loss: 0.4195 - accuracy: 0.8561 - val_loss: 0.4414 - val_accuracy: 0.8470\n",
            "Epoch 6/10\n",
            "1875/1875 [==============================] - 9s 5ms/step - loss: 0.4062 - accuracy: 0.8590 - val_loss: 0.4369 - val_accuracy: 0.8479\n",
            "Epoch 7/10\n",
            "1875/1875 [==============================] - 8s 4ms/step - loss: 0.3937 - accuracy: 0.8628 - val_loss: 0.4265 - val_accuracy: 0.8518\n",
            "Epoch 8/10\n",
            "1875/1875 [==============================] - 8s 4ms/step - loss: 0.3841 - accuracy: 0.8668 - val_loss: 0.4196 - val_accuracy: 0.8524\n",
            "Epoch 9/10\n",
            "1875/1875 [==============================] - 8s 4ms/step - loss: 0.3757 - accuracy: 0.8697 - val_loss: 0.4129 - val_accuracy: 0.8540\n",
            "Epoch 10/10\n",
            "1875/1875 [==============================] - 9s 5ms/step - loss: 0.3675 - accuracy: 0.8723 - val_loss: 0.4054 - val_accuracy: 0.8578\n"
          ]
        },
        {
          "output_type": "execute_result",
          "data": {
            "text/plain": [
              "<keras.callbacks.History at 0x7f474a9b3790>"
            ]
          },
          "metadata": {},
          "execution_count": 29
        }
      ],
      "source": [
        "# Fit results at Epoch 10\n",
        "ann_model.fit(X_train, y_train, epochs=10, validation_data=(X_test, y_test))"
      ]
    },
    {
      "cell_type": "code",
      "execution_count": 30,
      "id": "sweet-schema",
      "metadata": {
        "colab": {
          "base_uri": "https://localhost:8080/"
        },
        "id": "sweet-schema",
        "outputId": "f9e67364-988f-4e14-bf46-603650fd3060"
      },
      "outputs": [
        {
          "output_type": "execute_result",
          "data": {
            "text/plain": [
              "['loss', 'accuracy']"
            ]
          },
          "metadata": {},
          "execution_count": 30
        }
      ],
      "source": [
        "ann_model.metrics_names"
      ]
    },
    {
      "cell_type": "code",
      "execution_count": 31,
      "id": "proprietary-samuel",
      "metadata": {
        "id": "proprietary-samuel"
      },
      "outputs": [],
      "source": [
        "ann_model_param = pd.DataFrame(ann_model.history.history)"
      ]
    },
    {
      "cell_type": "code",
      "execution_count": 32,
      "id": "generic-allergy",
      "metadata": {
        "colab": {
          "base_uri": "https://localhost:8080/",
          "height": 363
        },
        "id": "generic-allergy",
        "outputId": "869e6593-0d65-47a5-b18e-e19a9deed931"
      },
      "outputs": [
        {
          "output_type": "execute_result",
          "data": {
            "text/plain": [
              "       loss  accuracy  val_loss  val_accuracy\n",
              "0  0.733428  0.765517  0.568928        0.8048\n",
              "1  0.507946  0.828567  0.503199        0.8262\n",
              "2  0.464531  0.839783  0.477365        0.8347\n",
              "3  0.438018  0.848967  0.467524        0.8341\n",
              "4  0.419514  0.856133  0.441400        0.8470\n",
              "5  0.406213  0.859050  0.436943        0.8479\n",
              "6  0.393722  0.862783  0.426525        0.8518\n",
              "7  0.384060  0.866800  0.419603        0.8524\n",
              "8  0.375685  0.869650  0.412943        0.8540\n",
              "9  0.367549  0.872250  0.405375        0.8578"
            ],
            "text/html": [
              "\n",
              "  <div id=\"df-16c75d6c-4053-4c43-a7c1-f2636cb08e6f\">\n",
              "    <div class=\"colab-df-container\">\n",
              "      <div>\n",
              "<style scoped>\n",
              "    .dataframe tbody tr th:only-of-type {\n",
              "        vertical-align: middle;\n",
              "    }\n",
              "\n",
              "    .dataframe tbody tr th {\n",
              "        vertical-align: top;\n",
              "    }\n",
              "\n",
              "    .dataframe thead th {\n",
              "        text-align: right;\n",
              "    }\n",
              "</style>\n",
              "<table border=\"1\" class=\"dataframe\">\n",
              "  <thead>\n",
              "    <tr style=\"text-align: right;\">\n",
              "      <th></th>\n",
              "      <th>loss</th>\n",
              "      <th>accuracy</th>\n",
              "      <th>val_loss</th>\n",
              "      <th>val_accuracy</th>\n",
              "    </tr>\n",
              "  </thead>\n",
              "  <tbody>\n",
              "    <tr>\n",
              "      <th>0</th>\n",
              "      <td>0.733428</td>\n",
              "      <td>0.765517</td>\n",
              "      <td>0.568928</td>\n",
              "      <td>0.8048</td>\n",
              "    </tr>\n",
              "    <tr>\n",
              "      <th>1</th>\n",
              "      <td>0.507946</td>\n",
              "      <td>0.828567</td>\n",
              "      <td>0.503199</td>\n",
              "      <td>0.8262</td>\n",
              "    </tr>\n",
              "    <tr>\n",
              "      <th>2</th>\n",
              "      <td>0.464531</td>\n",
              "      <td>0.839783</td>\n",
              "      <td>0.477365</td>\n",
              "      <td>0.8347</td>\n",
              "    </tr>\n",
              "    <tr>\n",
              "      <th>3</th>\n",
              "      <td>0.438018</td>\n",
              "      <td>0.848967</td>\n",
              "      <td>0.467524</td>\n",
              "      <td>0.8341</td>\n",
              "    </tr>\n",
              "    <tr>\n",
              "      <th>4</th>\n",
              "      <td>0.419514</td>\n",
              "      <td>0.856133</td>\n",
              "      <td>0.441400</td>\n",
              "      <td>0.8470</td>\n",
              "    </tr>\n",
              "    <tr>\n",
              "      <th>5</th>\n",
              "      <td>0.406213</td>\n",
              "      <td>0.859050</td>\n",
              "      <td>0.436943</td>\n",
              "      <td>0.8479</td>\n",
              "    </tr>\n",
              "    <tr>\n",
              "      <th>6</th>\n",
              "      <td>0.393722</td>\n",
              "      <td>0.862783</td>\n",
              "      <td>0.426525</td>\n",
              "      <td>0.8518</td>\n",
              "    </tr>\n",
              "    <tr>\n",
              "      <th>7</th>\n",
              "      <td>0.384060</td>\n",
              "      <td>0.866800</td>\n",
              "      <td>0.419603</td>\n",
              "      <td>0.8524</td>\n",
              "    </tr>\n",
              "    <tr>\n",
              "      <th>8</th>\n",
              "      <td>0.375685</td>\n",
              "      <td>0.869650</td>\n",
              "      <td>0.412943</td>\n",
              "      <td>0.8540</td>\n",
              "    </tr>\n",
              "    <tr>\n",
              "      <th>9</th>\n",
              "      <td>0.367549</td>\n",
              "      <td>0.872250</td>\n",
              "      <td>0.405375</td>\n",
              "      <td>0.8578</td>\n",
              "    </tr>\n",
              "  </tbody>\n",
              "</table>\n",
              "</div>\n",
              "      <button class=\"colab-df-convert\" onclick=\"convertToInteractive('df-16c75d6c-4053-4c43-a7c1-f2636cb08e6f')\"\n",
              "              title=\"Convert this dataframe to an interactive table.\"\n",
              "              style=\"display:none;\">\n",
              "        \n",
              "  <svg xmlns=\"http://www.w3.org/2000/svg\" height=\"24px\"viewBox=\"0 0 24 24\"\n",
              "       width=\"24px\">\n",
              "    <path d=\"M0 0h24v24H0V0z\" fill=\"none\"/>\n",
              "    <path d=\"M18.56 5.44l.94 2.06.94-2.06 2.06-.94-2.06-.94-.94-2.06-.94 2.06-2.06.94zm-11 1L8.5 8.5l.94-2.06 2.06-.94-2.06-.94L8.5 2.5l-.94 2.06-2.06.94zm10 10l.94 2.06.94-2.06 2.06-.94-2.06-.94-.94-2.06-.94 2.06-2.06.94z\"/><path d=\"M17.41 7.96l-1.37-1.37c-.4-.4-.92-.59-1.43-.59-.52 0-1.04.2-1.43.59L10.3 9.45l-7.72 7.72c-.78.78-.78 2.05 0 2.83L4 21.41c.39.39.9.59 1.41.59.51 0 1.02-.2 1.41-.59l7.78-7.78 2.81-2.81c.8-.78.8-2.07 0-2.86zM5.41 20L4 18.59l7.72-7.72 1.47 1.35L5.41 20z\"/>\n",
              "  </svg>\n",
              "      </button>\n",
              "      \n",
              "  <style>\n",
              "    .colab-df-container {\n",
              "      display:flex;\n",
              "      flex-wrap:wrap;\n",
              "      gap: 12px;\n",
              "    }\n",
              "\n",
              "    .colab-df-convert {\n",
              "      background-color: #E8F0FE;\n",
              "      border: none;\n",
              "      border-radius: 50%;\n",
              "      cursor: pointer;\n",
              "      display: none;\n",
              "      fill: #1967D2;\n",
              "      height: 32px;\n",
              "      padding: 0 0 0 0;\n",
              "      width: 32px;\n",
              "    }\n",
              "\n",
              "    .colab-df-convert:hover {\n",
              "      background-color: #E2EBFA;\n",
              "      box-shadow: 0px 1px 2px rgba(60, 64, 67, 0.3), 0px 1px 3px 1px rgba(60, 64, 67, 0.15);\n",
              "      fill: #174EA6;\n",
              "    }\n",
              "\n",
              "    [theme=dark] .colab-df-convert {\n",
              "      background-color: #3B4455;\n",
              "      fill: #D2E3FC;\n",
              "    }\n",
              "\n",
              "    [theme=dark] .colab-df-convert:hover {\n",
              "      background-color: #434B5C;\n",
              "      box-shadow: 0px 1px 3px 1px rgba(0, 0, 0, 0.15);\n",
              "      filter: drop-shadow(0px 1px 2px rgba(0, 0, 0, 0.3));\n",
              "      fill: #FFFFFF;\n",
              "    }\n",
              "  </style>\n",
              "\n",
              "      <script>\n",
              "        const buttonEl =\n",
              "          document.querySelector('#df-16c75d6c-4053-4c43-a7c1-f2636cb08e6f button.colab-df-convert');\n",
              "        buttonEl.style.display =\n",
              "          google.colab.kernel.accessAllowed ? 'block' : 'none';\n",
              "\n",
              "        async function convertToInteractive(key) {\n",
              "          const element = document.querySelector('#df-16c75d6c-4053-4c43-a7c1-f2636cb08e6f');\n",
              "          const dataTable =\n",
              "            await google.colab.kernel.invokeFunction('convertToInteractive',\n",
              "                                                     [key], {});\n",
              "          if (!dataTable) return;\n",
              "\n",
              "          const docLinkHtml = 'Like what you see? Visit the ' +\n",
              "            '<a target=\"_blank\" href=https://colab.research.google.com/notebooks/data_table.ipynb>data table notebook</a>'\n",
              "            + ' to learn more about interactive tables.';\n",
              "          element.innerHTML = '';\n",
              "          dataTable['output_type'] = 'display_data';\n",
              "          await google.colab.output.renderOutput(dataTable, element);\n",
              "          const docLink = document.createElement('div');\n",
              "          docLink.innerHTML = docLinkHtml;\n",
              "          element.appendChild(docLink);\n",
              "        }\n",
              "      </script>\n",
              "    </div>\n",
              "  </div>\n",
              "  "
            ]
          },
          "metadata": {},
          "execution_count": 32
        }
      ],
      "source": [
        "ann_model_param"
      ]
    },
    {
      "cell_type": "code",
      "execution_count": 33,
      "id": "expressed-minneapolis",
      "metadata": {
        "colab": {
          "base_uri": "https://localhost:8080/",
          "height": 285
        },
        "id": "expressed-minneapolis",
        "outputId": "f07b7f86-da70-46e1-9dda-9b6f98ed4c7b"
      },
      "outputs": [
        {
          "output_type": "execute_result",
          "data": {
            "text/plain": [
              "<matplotlib.axes._subplots.AxesSubplot at 0x7f474b9ff190>"
            ]
          },
          "metadata": {},
          "execution_count": 33
        },
        {
          "output_type": "display_data",
          "data": {
            "text/plain": [
              "<Figure size 432x288 with 1 Axes>"
            ],
            "image/png": "[encoded data removed]"
          },
          "metadata": {
            "needs_background": "light"
          }
        }
      ],
      "source": [
        "ann_model_param[['loss','val_loss']].plot()"
      ]
    },
    {
      "cell_type": "code",
      "execution_count": 34,
      "id": "potential-vitamin",
      "metadata": {
        "colab": {
          "base_uri": "https://localhost:8080/",
          "height": 282
        },
        "id": "potential-vitamin",
        "outputId": "209c7d8d-c16b-470c-b3ad-2b26c58ca621"
      },
      "outputs": [
        {
          "output_type": "execute_result",
          "data": {
            "text/plain": [
              "<matplotlib.axes._subplots.AxesSubplot at 0x7f474ee37510>"
            ]
          },
          "metadata": {},
          "execution_count": 34
        },
        {
          "output_type": "display_data",
          "data": {
            "text/plain": [
              "<Figure size 432x288 with 1 Axes>"
            ],
            "image/png": "[encoded data removed]"
          },
          "metadata": {
            "needs_background": "light"
          }
        }
      ],
      "source": [
        "ann_model_param[['accuracy','val_accuracy']].plot()"
      ]
    },
    {
      "cell_type": "code",
      "execution_count": 35,
      "id": "excess-hours",
      "metadata": {
        "colab": {
          "base_uri": "https://localhost:8080/"
        },
        "id": "excess-hours",
        "outputId": "6e34b271-32f0-4bae-c253-41331c7d3418"
      },
      "outputs": [
        {
          "output_type": "stream",
          "name": "stdout",
          "text": [
            "1875/1875 [==============================] - 7s 4ms/step - loss: 0.3592 - accuracy: 0.8761\n"
          ]
        },
        {
          "output_type": "execute_result",
          "data": {
            "text/plain": [
              "[0.35917097330093384, 0.8760833144187927]"
            ]
          },
          "metadata": {},
          "execution_count": 35
        }
      ],
      "source": [
        "ann_model.evaluate(X_train,y_train)"
      ]
    },
    {
      "cell_type": "code",
      "execution_count": 36,
      "id": "assured-ladder",
      "metadata": {
        "colab": {
          "base_uri": "https://localhost:8080/"
        },
        "id": "assured-ladder",
        "outputId": "be849ac4-fe06-465f-f1f6-f76193614556"
      },
      "outputs": [
        {
          "output_type": "stream",
          "name": "stdout",
          "text": [
            "313/313 [==============================] - 1s 3ms/step\n"
          ]
        }
      ],
      "source": [
        "from sklearn.metrics import confusion_matrix, classification_report\n",
        "\n",
        "#y_prediction = ann_model.predict_classes(X_test)\n",
        "predict_x=ann_model.predict(X_test) \n",
        "y_prediction=np.argmax(predict_x,axis=1)"
      ]
    },
    {
      "cell_type": "code",
      "execution_count": 37,
      "id": "better-economics",
      "metadata": {
        "colab": {
          "base_uri": "https://localhost:8080/"
        },
        "id": "better-economics",
        "outputId": "863761e9-d1c2-4f40-920b-fbcc0a96c9ba"
      },
      "outputs": [
        {
          "output_type": "stream",
          "name": "stdout",
          "text": [
            "313/313 [==============================] - 1s 3ms/step - loss: 0.4054 - accuracy: 0.8578\n"
          ]
        },
        {
          "output_type": "execute_result",
          "data": {
            "text/plain": [
              "[0.4053753912448883, 0.8578000068664551]"
            ]
          },
          "metadata": {},
          "execution_count": 37
        }
      ],
      "source": [
        "ann_model.evaluate(X_test,y_test)"
      ]
    },
    {
      "cell_type": "code",
      "execution_count": 38,
      "id": "cooked-profile",
      "metadata": {
        "colab": {
          "base_uri": "https://localhost:8080/"
        },
        "id": "cooked-profile",
        "outputId": "085f01df-3933-4851-94aa-f7e4887469ba"
      },
      "outputs": [
        {
          "output_type": "stream",
          "name": "stdout",
          "text": [
            "              precision    recall  f1-score   support\n",
            "\n",
            "           0       0.79      0.84      0.82      1000\n",
            "           1       0.98      0.96      0.97      1000\n",
            "           2       0.75      0.79      0.77      1000\n",
            "           3       0.81      0.90      0.85      1000\n",
            "           4       0.75      0.80      0.77      1000\n",
            "           5       0.95      0.94      0.94      1000\n",
            "           6       0.74      0.53      0.61      1000\n",
            "           7       0.89      0.96      0.92      1000\n",
            "           8       0.95      0.94      0.95      1000\n",
            "           9       0.97      0.92      0.94      1000\n",
            "\n",
            "    accuracy                           0.86     10000\n",
            "   macro avg       0.86      0.86      0.86     10000\n",
            "weighted avg       0.86      0.86      0.86     10000\n",
            "\n",
            "\n",
            "\n",
            "[[844   2  16  55   6   3  65   0   9   0]\n",
            " [  3 961   2  28   3   0   2   0   1   0]\n",
            " [ 19   3 794  18 116   1  43   0   6   0]\n",
            " [ 25  12  11 897  31   0  19   0   5   0]\n",
            " [  0   0 107  37 801   1  45   0   9   0]\n",
            " [  0   0   0   1   0 936   0  49   2  12]\n",
            " [170   2 123  54 106   1 526   0  18   0]\n",
            " [  0   0   0   0   0  30   0 956   0  14]\n",
            " [  6   1  11  11   6   4  11   6 944   0]\n",
            " [  0   0   0   0   0  11   0  69   1 919]]\n"
          ]
        }
      ],
      "source": [
        "print(classification_report(y_test,y_prediction))\n",
        "print(\"\\n\")\n",
        "print(confusion_matrix(y_test,y_prediction))"
      ]
    },
    {
      "cell_type": "code",
      "execution_count": 39,
      "id": "italian-calvin",
      "metadata": {
        "id": "italian-calvin"
      },
      "outputs": [],
      "source": [
        "# CNN Model"
      ]
    },
    {
      "cell_type": "code",
      "execution_count": 40,
      "id": "known-triumph",
      "metadata": {
        "colab": {
          "base_uri": "https://localhost:8080/"
        },
        "id": "known-triumph",
        "outputId": "7f03e077-3ec5-4e96-e420-cbc52e2d8dc5"
      },
      "outputs": [
        {
          "output_type": "execute_result",
          "data": {
            "text/plain": [
              "(60000, 28, 28, 1)"
            ]
          },
          "metadata": {},
          "execution_count": 40
        }
      ],
      "source": [
        "X_train.shape"
      ]
    },
    {
      "cell_type": "code",
      "execution_count": 41,
      "id": "following-parliament",
      "metadata": {
        "id": "following-parliament"
      },
      "outputs": [],
      "source": [
        "X_train = X_train.reshape(60000,28,28,1)\n",
        "X_test = X_test.reshape(10000,28,28,1)"
      ]
    },
    {
      "cell_type": "code",
      "execution_count": 42,
      "id": "micro-richmond",
      "metadata": {
        "id": "micro-richmond"
      },
      "outputs": [],
      "source": [
        "# One hot encoding for all output categories\n",
        "from tensorflow.keras.utils import to_categorical"
      ]
    },
    {
      "cell_type": "code",
      "execution_count": 43,
      "id": "parliamentary-therapy",
      "metadata": {
        "colab": {
          "base_uri": "https://localhost:8080/"
        },
        "id": "parliamentary-therapy",
        "outputId": "9a77a593-bd26-49a9-8e2a-50248d2ed60b"
      },
      "outputs": [
        {
          "output_type": "execute_result",
          "data": {
            "text/plain": [
              "array([9, 0, 0, ..., 3, 0, 5], dtype=uint8)"
            ]
          },
          "metadata": {},
          "execution_count": 43
        }
      ],
      "source": [
        "y_train"
      ]
    },
    {
      "cell_type": "code",
      "execution_count": 44,
      "id": "expanded-klein",
      "metadata": {
        "id": "expanded-klein"
      },
      "outputs": [],
      "source": [
        "y_categorical_train = to_categorical(y_train)"
      ]
    },
    {
      "cell_type": "code",
      "execution_count": 45,
      "id": "given-knock",
      "metadata": {
        "id": "given-knock"
      },
      "outputs": [],
      "source": [
        "y_categorical_test = to_categorical(y_test)"
      ]
    },
    {
      "cell_type": "code",
      "execution_count": 46,
      "id": "innocent-genome",
      "metadata": {
        "colab": {
          "base_uri": "https://localhost:8080/"
        },
        "id": "innocent-genome",
        "outputId": "331cbec9-b6ae-4a76-d2fd-b551a1fbf5bd"
      },
      "outputs": [
        {
          "output_type": "execute_result",
          "data": {
            "text/plain": [
              "array([[0., 0., 0., ..., 0., 0., 1.],\n",
              "       [1., 0., 0., ..., 0., 0., 0.],\n",
              "       [1., 0., 0., ..., 0., 0., 0.],\n",
              "       ...,\n",
              "       [0., 0., 0., ..., 0., 0., 0.],\n",
              "       [1., 0., 0., ..., 0., 0., 0.],\n",
              "       [0., 0., 0., ..., 0., 0., 0.]], dtype=float32)"
            ]
          },
          "metadata": {},
          "execution_count": 46
        }
      ],
      "source": [
        "y_categorical_train"
      ]
    },
    {
      "cell_type": "code",
      "execution_count": 47,
      "id": "stainless-membership",
      "metadata": {
        "id": "stainless-membership"
      },
      "outputs": [],
      "source": [
        "from tensorflow.keras.models import Sequential\n",
        "from tensorflow.keras.layers import Dense, Conv2D, MaxPool2D, Flatten"
      ]
    },
    {
      "cell_type": "code",
      "execution_count": 48,
      "id": "likely-price",
      "metadata": {
        "id": "likely-price"
      },
      "outputs": [],
      "source": [
        "cnn_model = Sequential()\n",
        "\n",
        "cnn_model.add(Conv2D(filters=32, kernel_size=(4,4),input_shape=(28, 28, 1), activation='relu',))\n",
        "cnn_model.add(MaxPool2D(pool_size=(2, 2)))\n",
        "\n",
        "cnn_model.add(Conv2D(filters=32, kernel_size=(4,4),input_shape=(28, 28, 1), activation='relu',))\n",
        "cnn_model.add(MaxPool2D(pool_size=(2, 2)))\n",
        "\n",
        "cnn_model.add(Flatten())\n",
        "\n",
        "cnn_model.add(Dense(128, activation='relu'))\n",
        "\n",
        "cnn_model.add(Dense(10, activation='softmax'))\n",
        "\n",
        "cnn_model.compile(loss='categorical_crossentropy',\n",
        "              optimizer='rmsprop',\n",
        "              metrics=['accuracy'])"
      ]
    },
    {
      "cell_type": "code",
      "execution_count": 49,
      "id": "sticky-engineer",
      "metadata": {
        "colab": {
          "base_uri": "https://localhost:8080/"
        },
        "id": "sticky-engineer",
        "outputId": "8046ab45-a908-49ff-e242-46c8ddd4dfca"
      },
      "outputs": [
        {
          "output_type": "stream",
          "name": "stdout",
          "text": [
            "Model: \"sequential_2\"\n",
            "_________________________________________________________________\n",
            " Layer (type)                Output Shape              Param #   \n",
            "=================================================================\n",
            " conv2d (Conv2D)             (None, 25, 25, 32)        544       \n",
            "                                                                 \n",
            " max_pooling2d (MaxPooling2D  (None, 12, 12, 32)       0         \n",
            " )                                                               \n",
            "                                                                 \n",
            " conv2d_1 (Conv2D)           (None, 9, 9, 32)          16416     \n",
            "                                                                 \n",
            " max_pooling2d_1 (MaxPooling  (None, 4, 4, 32)         0         \n",
            " 2D)                                                             \n",
            "                                                                 \n",
            " flatten_2 (Flatten)         (None, 512)               0         \n",
            "                                                                 \n",
            " dense_4 (Dense)             (None, 128)               65664     \n",
            "                                                                 \n",
            " dense_5 (Dense)             (None, 10)                1290      \n",
            "                                                                 \n",
            "=================================================================\n",
            "Total params: 83,914\n",
            "Trainable params: 83,914\n",
            "Non-trainable params: 0\n",
            "_________________________________________________________________\n"
          ]
        }
      ],
      "source": [
        "cnn_model.summary()"
      ]
    },
    {
      "cell_type": "code",
      "execution_count": 50,
      "id": "fitting-samuel",
      "metadata": {
        "colab": {
          "base_uri": "https://localhost:8080/"
        },
        "id": "fitting-samuel",
        "outputId": "464eb274-42d2-48b8-cb73-aee37e458d09"
      },
      "outputs": [
        {
          "output_type": "stream",
          "name": "stdout",
          "text": [
            "Epoch 1/10\n",
            "1875/1875 [==============================] - 69s 36ms/step - loss: 0.4922 - accuracy: 0.8193 - val_loss: 0.3832 - val_accuracy: 0.8602\n",
            "Epoch 2/10\n",
            "1875/1875 [==============================] - 70s 37ms/step - loss: 0.3328 - accuracy: 0.8790 - val_loss: 0.3604 - val_accuracy: 0.8680\n",
            "Epoch 3/10\n",
            "1875/1875 [==============================] - 75s 40ms/step - loss: 0.2941 - accuracy: 0.8924 - val_loss: 0.3277 - val_accuracy: 0.8776\n",
            "Epoch 4/10\n",
            "1875/1875 [==============================] - 69s 37ms/step - loss: 0.2667 - accuracy: 0.9031 - val_loss: 0.3212 - val_accuracy: 0.8860\n",
            "Epoch 5/10\n",
            "1875/1875 [==============================] - 70s 38ms/step - loss: 0.2528 - accuracy: 0.9079 - val_loss: 0.3179 - val_accuracy: 0.8920\n",
            "Epoch 6/10\n",
            "1875/1875 [==============================] - 71s 38ms/step - loss: 0.2397 - accuracy: 0.9121 - val_loss: 0.3018 - val_accuracy: 0.8956\n",
            "Epoch 7/10\n",
            "1875/1875 [==============================] - 70s 38ms/step - loss: 0.2321 - accuracy: 0.9152 - val_loss: 0.3269 - val_accuracy: 0.8924\n",
            "Epoch 8/10\n",
            "1875/1875 [==============================] - 71s 38ms/step - loss: 0.2246 - accuracy: 0.9181 - val_loss: 0.3171 - val_accuracy: 0.8947\n",
            "Epoch 9/10\n",
            "1875/1875 [==============================] - 71s 38ms/step - loss: 0.2203 - accuracy: 0.9210 - val_loss: 0.3335 - val_accuracy: 0.8884\n",
            "Epoch 10/10\n",
            "1875/1875 [==============================] - 71s 38ms/step - loss: 0.2163 - accuracy: 0.9233 - val_loss: 0.3453 - val_accuracy: 0.8920\n"
          ]
        },
        {
          "output_type": "execute_result",
          "data": {
            "text/plain": [
              "<keras.callbacks.History at 0x7f474addcad0>"
            ]
          },
          "metadata": {},
          "execution_count": 50
        }
      ],
      "source": [
        "cnn_model.fit(X_train,y_categorical_train,validation_data=(X_test,y_categorical_test),epochs=10)"
      ]
    },
    {
      "cell_type": "code",
      "execution_count": 51,
      "id": "uniform-lodge",
      "metadata": {
        "colab": {
          "base_uri": "https://localhost:8080/"
        },
        "id": "uniform-lodge",
        "outputId": "c2212201-c28e-4f0c-da90-daaf74ba3980"
      },
      "outputs": [
        {
          "output_type": "execute_result",
          "data": {
            "text/plain": [
              "['loss', 'accuracy']"
            ]
          },
          "metadata": {},
          "execution_count": 51
        }
      ],
      "source": [
        "cnn_model.metrics_names"
      ]
    },
    {
      "cell_type": "code",
      "execution_count": 52,
      "id": "metallic-intensity",
      "metadata": {
        "id": "metallic-intensity"
      },
      "outputs": [],
      "source": [
        "cnn_model_param = pd.DataFrame(cnn_model.history.history)"
      ]
    },
    {
      "cell_type": "code",
      "execution_count": 53,
      "id": "designed-prior",
      "metadata": {
        "colab": {
          "base_uri": "https://localhost:8080/",
          "height": 363
        },
        "id": "designed-prior",
        "outputId": "bc1870a2-c76c-46ad-fb5d-81be17b6e74b"
      },
      "outputs": [
        {
          "output_type": "execute_result",
          "data": {
            "text/plain": [
              "       loss  accuracy  val_loss  val_accuracy\n",
              "0  0.492154  0.819300  0.383233        0.8602\n",
              "1  0.332845  0.879033  0.360407        0.8680\n",
              "2  0.294065  0.892417  0.327729        0.8776\n",
              "3  0.266686  0.903117  0.321165        0.8860\n",
              "4  0.252850  0.907867  0.317911        0.8920\n",
              "5  0.239669  0.912050  0.301773        0.8956\n",
              "6  0.232063  0.915200  0.326935        0.8924\n",
              "7  0.224635  0.918100  0.317079        0.8947\n",
              "8  0.220338  0.921017  0.333513        0.8884\n",
              "9  0.216333  0.923333  0.345277        0.8920"
            ],
            "text/html": [
              "\n",
              "  <div id=\"df-892db226-c40b-4b78-8658-54ba174c6b86\">\n",
              "    <div class=\"colab-df-container\">\n",
              "      <div>\n",
              "<style scoped>\n",
              "    .dataframe tbody tr th:only-of-type {\n",
              "        vertical-align: middle;\n",
              "    }\n",
              "\n",
              "    .dataframe tbody tr th {\n",
              "        vertical-align: top;\n",
              "    }\n",
              "\n",
              "    .dataframe thead th {\n",
              "        text-align: right;\n",
              "    }\n",
              "</style>\n",
              "<table border=\"1\" class=\"dataframe\">\n",
              "  <thead>\n",
              "    <tr style=\"text-align: right;\">\n",
              "      <th></th>\n",
              "      <th>loss</th>\n",
              "      <th>accuracy</th>\n",
              "      <th>val_loss</th>\n",
              "      <th>val_accuracy</th>\n",
              "    </tr>\n",
              "  </thead>\n",
              "  <tbody>\n",
              "    <tr>\n",
              "      <th>0</th>\n",
              "      <td>0.492154</td>\n",
              "      <td>0.819300</td>\n",
              "      <td>0.383233</td>\n",
              "      <td>0.8602</td>\n",
              "    </tr>\n",
              "    <tr>\n",
              "      <th>1</th>\n",
              "      <td>0.332845</td>\n",
              "      <td>0.879033</td>\n",
              "      <td>0.360407</td>\n",
              "      <td>0.8680</td>\n",
              "    </tr>\n",
              "    <tr>\n",
              "      <th>2</th>\n",
              "      <td>0.294065</td>\n",
              "      <td>0.892417</td>\n",
              "      <td>0.327729</td>\n",
              "      <td>0.8776</td>\n",
              "    </tr>\n",
              "    <tr>\n",
              "      <th>3</th>\n",
              "      <td>0.266686</td>\n",
              "      <td>0.903117</td>\n",
              "      <td>0.321165</td>\n",
              "      <td>0.8860</td>\n",
              "    </tr>\n",
              "    <tr>\n",
              "      <th>4</th>\n",
              "      <td>0.252850</td>\n",
              "      <td>0.907867</td>\n",
              "      <td>0.317911</td>\n",
              "      <td>0.8920</td>\n",
              "    </tr>\n",
              "    <tr>\n",
              "      <th>5</th>\n",
              "      <td>0.239669</td>\n",
              "      <td>0.912050</td>\n",
              "      <td>0.301773</td>\n",
              "      <td>0.8956</td>\n",
              "    </tr>\n",
              "    <tr>\n",
              "      <th>6</th>\n",
              "      <td>0.232063</td>\n",
              "      <td>0.915200</td>\n",
              "      <td>0.326935</td>\n",
              "      <td>0.8924</td>\n",
              "    </tr>\n",
              "    <tr>\n",
              "      <th>7</th>\n",
              "      <td>0.224635</td>\n",
              "      <td>0.918100</td>\n",
              "      <td>0.317079</td>\n",
              "      <td>0.8947</td>\n",
              "    </tr>\n",
              "    <tr>\n",
              "      <th>8</th>\n",
              "      <td>0.220338</td>\n",
              "      <td>0.921017</td>\n",
              "      <td>0.333513</td>\n",
              "      <td>0.8884</td>\n",
              "    </tr>\n",
              "    <tr>\n",
              "      <th>9</th>\n",
              "      <td>0.216333</td>\n",
              "      <td>0.923333</td>\n",
              "      <td>0.345277</td>\n",
              "      <td>0.8920</td>\n",
              "    </tr>\n",
              "  </tbody>\n",
              "</table>\n",
              "</div>\n",
              "      <button class=\"colab-df-convert\" onclick=\"convertToInteractive('df-892db226-c40b-4b78-8658-54ba174c6b86')\"\n",
              "              title=\"Convert this dataframe to an interactive table.\"\n",
              "              style=\"display:none;\">\n",
              "        \n",
              "  <svg xmlns=\"http://www.w3.org/2000/svg\" height=\"24px\"viewBox=\"0 0 24 24\"\n",
              "       width=\"24px\">\n",
              "    <path d=\"M0 0h24v24H0V0z\" fill=\"none\"/>\n",
              "    <path d=\"M18.56 5.44l.94 2.06.94-2.06 2.06-.94-2.06-.94-.94-2.06-.94 2.06-2.06.94zm-11 1L8.5 8.5l.94-2.06 2.06-.94-2.06-.94L8.5 2.5l-.94 2.06-2.06.94zm10 10l.94 2.06.94-2.06 2.06-.94-2.06-.94-.94-2.06-.94 2.06-2.06.94z\"/><path d=\"M17.41 7.96l-1.37-1.37c-.4-.4-.92-.59-1.43-.59-.52 0-1.04.2-1.43.59L10.3 9.45l-7.72 7.72c-.78.78-.78 2.05 0 2.83L4 21.41c.39.39.9.59 1.41.59.51 0 1.02-.2 1.41-.59l7.78-7.78 2.81-2.81c.8-.78.8-2.07 0-2.86zM5.41 20L4 18.59l7.72-7.72 1.47 1.35L5.41 20z\"/>\n",
              "  </svg>\n",
              "      </button>\n",
              "      \n",
              "  <style>\n",
              "    .colab-df-container {\n",
              "      display:flex;\n",
              "      flex-wrap:wrap;\n",
              "      gap: 12px;\n",
              "    }\n",
              "\n",
              "    .colab-df-convert {\n",
              "      background-color: #E8F0FE;\n",
              "      border: none;\n",
              "      border-radius: 50%;\n",
              "      cursor: pointer;\n",
              "      display: none;\n",
              "      fill: #1967D2;\n",
              "      height: 32px;\n",
              "      padding: 0 0 0 0;\n",
              "      width: 32px;\n",
              "    }\n",
              "\n",
              "    .colab-df-convert:hover {\n",
              "      background-color: #E2EBFA;\n",
              "      box-shadow: 0px 1px 2px rgba(60, 64, 67, 0.3), 0px 1px 3px 1px rgba(60, 64, 67, 0.15);\n",
              "      fill: #174EA6;\n",
              "    }\n",
              "\n",
              "    [theme=dark] .colab-df-convert {\n",
              "      background-color: #3B4455;\n",
              "      fill: #D2E3FC;\n",
              "    }\n",
              "\n",
              "    [theme=dark] .colab-df-convert:hover {\n",
              "      background-color: #434B5C;\n",
              "      box-shadow: 0px 1px 3px 1px rgba(0, 0, 0, 0.15);\n",
              "      filter: drop-shadow(0px 1px 2px rgba(0, 0, 0, 0.3));\n",
              "      fill: #FFFFFF;\n",
              "    }\n",
              "  </style>\n",
              "\n",
              "      <script>\n",
              "        const buttonEl =\n",
              "          document.querySelector('#df-892db226-c40b-4b78-8658-54ba174c6b86 button.colab-df-convert');\n",
              "        buttonEl.style.display =\n",
              "          google.colab.kernel.accessAllowed ? 'block' : 'none';\n",
              "\n",
              "        async function convertToInteractive(key) {\n",
              "          const element = document.querySelector('#df-892db226-c40b-4b78-8658-54ba174c6b86');\n",
              "          const dataTable =\n",
              "            await google.colab.kernel.invokeFunction('convertToInteractive',\n",
              "                                                     [key], {});\n",
              "          if (!dataTable) return;\n",
              "\n",
              "          const docLinkHtml = 'Like what you see? Visit the ' +\n",
              "            '<a target=\"_blank\" href=https://colab.research.google.com/notebooks/data_table.ipynb>data table notebook</a>'\n",
              "            + ' to learn more about interactive tables.';\n",
              "          element.innerHTML = '';\n",
              "          dataTable['output_type'] = 'display_data';\n",
              "          await google.colab.output.renderOutput(dataTable, element);\n",
              "          const docLink = document.createElement('div');\n",
              "          docLink.innerHTML = docLinkHtml;\n",
              "          element.appendChild(docLink);\n",
              "        }\n",
              "      </script>\n",
              "    </div>\n",
              "  </div>\n",
              "  "
            ]
          },
          "metadata": {},
          "execution_count": 53
        }
      ],
      "source": [
        "cnn_model_param"
      ]
    },
    {
      "cell_type": "code",
      "execution_count": 54,
      "id": "differential-wiring",
      "metadata": {
        "colab": {
          "base_uri": "https://localhost:8080/",
          "height": 282
        },
        "id": "differential-wiring",
        "outputId": "8dc7677a-2944-4cde-c8a5-0261f832e969"
      },
      "outputs": [
        {
          "output_type": "execute_result",
          "data": {
            "text/plain": [
              "<matplotlib.axes._subplots.AxesSubplot at 0x7f474abf77d0>"
            ]
          },
          "metadata": {},
          "execution_count": 54
        },
        {
          "output_type": "display_data",
          "data": {
            "text/plain": [
              "<Figure size 432x288 with 1 Axes>"
            ],
            "image/png": "[encoded data removed]"
          },
          "metadata": {
            "needs_background": "light"
          }
        }
      ],
      "source": [
        "cnn_model_param[['loss', 'val_loss']].plot()"
      ]
    },
    {
      "cell_type": "code",
      "execution_count": 55,
      "id": "civic-baking",
      "metadata": {
        "colab": {
          "base_uri": "https://localhost:8080/",
          "height": 282
        },
        "id": "civic-baking",
        "outputId": "b4eadb2a-f785-478b-f965-3b1e027dbc8e"
      },
      "outputs": [
        {
          "output_type": "execute_result",
          "data": {
            "text/plain": [
              "<matplotlib.axes._subplots.AxesSubplot at 0x7f474c736690>"
            ]
          },
          "metadata": {},
          "execution_count": 55
        },
        {
          "output_type": "display_data",
          "data": {
            "text/plain": [
              "<Figure size 432x288 with 1 Axes>"
            ],
            "image/png": "[encoded data removed]"
          },
          "metadata": {
            "needs_background": "light"
          }
        }
      ],
      "source": [
        "cnn_model_param[['accuracy','val_accuracy']].plot()"
      ]
    },
    {
      "cell_type": "code",
      "execution_count": 56,
      "id": "heard-overall",
      "metadata": {
        "colab": {
          "base_uri": "https://localhost:8080/"
        },
        "id": "heard-overall",
        "outputId": "06074610-f52b-4f00-b55f-11b517a00f73"
      },
      "outputs": [
        {
          "output_type": "stream",
          "name": "stdout",
          "text": [
            "313/313 [==============================] - 3s 10ms/step\n"
          ]
        }
      ],
      "source": [
        "#cnn_predictions = cnn_model.predict_classes(X_test)\n",
        "predict_x=cnn_model.predict(X_test) \n",
        "cnn_predictions=np.argmax(predict_x,axis=1)"
      ]
    },
    {
      "cell_type": "code",
      "execution_count": 58,
      "id": "deadly-range",
      "metadata": {
        "colab": {
          "base_uri": "https://localhost:8080/"
        },
        "id": "deadly-range",
        "outputId": "54993ce1-4da3-42fe-cef2-ce7fac2b7500"
      },
      "outputs": [
        {
          "output_type": "stream",
          "name": "stdout",
          "text": [
            "313/313 [==============================] - 3s 9ms/step - loss: 0.3453 - accuracy: 0.8920\n"
          ]
        },
        {
          "output_type": "execute_result",
          "data": {
            "text/plain": [
              "[0.34527716040611267, 0.8920000195503235]"
            ]
          },
          "metadata": {},
          "execution_count": 58
        }
      ],
      "source": [
        "cnn_model.evaluate(X_test,y_categorical_test)"
      ]
    },
    {
      "cell_type": "code",
      "execution_count": 59,
      "id": "institutional-venice",
      "metadata": {
        "colab": {
          "base_uri": "https://localhost:8080/"
        },
        "id": "institutional-venice",
        "outputId": "3d1c1908-673d-4347-a7d0-dbf994866c85"
      },
      "outputs": [
        {
          "output_type": "stream",
          "name": "stdout",
          "text": [
            "              precision    recall  f1-score   support\n",
            "\n",
            "           0       0.80      0.89      0.84      1000\n",
            "           1       1.00      0.96      0.98      1000\n",
            "           2       0.81      0.85      0.83      1000\n",
            "           3       0.92      0.89      0.91      1000\n",
            "           4       0.87      0.82      0.84      1000\n",
            "           5       0.93      0.99      0.96      1000\n",
            "           6       0.71      0.67      0.69      1000\n",
            "           7       0.96      0.92      0.94      1000\n",
            "           8       0.96      0.97      0.97      1000\n",
            "           9       0.97      0.95      0.96      1000\n",
            "\n",
            "    accuracy                           0.89     10000\n",
            "   macro avg       0.89      0.89      0.89     10000\n",
            "weighted avg       0.89      0.89      0.89     10000\n",
            "\n"
          ]
        }
      ],
      "source": [
        "print(classification_report(y_test,cnn_predictions))"
      ]
    },
    {
      "cell_type": "code",
      "execution_count": 60,
      "id": "thorough-wallpaper",
      "metadata": {
        "id": "thorough-wallpaper"
      },
      "outputs": [],
      "source": [
        "# Tune the CNN model with adding callbacks, dropouts and increasing the dense layers"
      ]
    },
    {
      "cell_type": "code",
      "execution_count": 61,
      "id": "crazy-membership",
      "metadata": {
        "id": "crazy-membership"
      },
      "outputs": [],
      "source": [
        "from tensorflow.keras.layers import Dropout\n",
        "from tensorflow.keras.callbacks import EarlyStopping"
      ]
    },
    {
      "cell_type": "code",
      "execution_count": 62,
      "id": "atlantic-mount",
      "metadata": {
        "id": "atlantic-mount"
      },
      "outputs": [],
      "source": [
        "early_stop = EarlyStopping(monitor='val_loss',patience=2)"
      ]
    },
    {
      "cell_type": "code",
      "execution_count": 63,
      "id": "peripheral-determination",
      "metadata": {
        "id": "peripheral-determination"
      },
      "outputs": [],
      "source": [
        "cnn_tuned_model = Sequential()\n",
        "\n",
        "\n",
        "cnn_tuned_model.add(Conv2D(filters=32, kernel_size=(3,3),input_shape=(28, 28, 1), activation='relu'))\n",
        "\n",
        "cnn_tuned_model.add(MaxPool2D(pool_size=(2, 2)))\n",
        "\n",
        "\n",
        "cnn_tuned_model.add(Flatten())\n",
        "\n",
        "\n",
        "cnn_tuned_model.add(Dense(128, activation='relu'))\n",
        "cnn_tuned_model.add(Dropout(0.2))\n",
        "\n",
        "\n",
        "cnn_tuned_model.add(Dense(10, activation='softmax'))\n",
        "\n",
        "\n",
        "cnn_tuned_model.compile(loss='categorical_crossentropy',\n",
        "              optimizer='rmsprop',\n",
        "              metrics=['accuracy'])\n"
      ]
    },
    {
      "cell_type": "code",
      "execution_count": 64,
      "id": "balanced-boundary",
      "metadata": {
        "colab": {
          "base_uri": "https://localhost:8080/"
        },
        "id": "balanced-boundary",
        "outputId": "c2324e02-c1d7-4fb6-daad-b8fbb8b71a9f"
      },
      "outputs": [
        {
          "output_type": "stream",
          "name": "stdout",
          "text": [
            "Model: \"sequential_3\"\n",
            "_________________________________________________________________\n",
            " Layer (type)                Output Shape              Param #   \n",
            "=================================================================\n",
            " conv2d_2 (Conv2D)           (None, 26, 26, 32)        320       \n",
            "                                                                 \n",
            " max_pooling2d_2 (MaxPooling  (None, 13, 13, 32)       0         \n",
            " 2D)                                                             \n",
            "                                                                 \n",
            " flatten_3 (Flatten)         (None, 5408)              0         \n",
            "                                                                 \n",
            " dense_6 (Dense)             (None, 128)               692352    \n",
            "                                                                 \n",
            " dropout (Dropout)           (None, 128)               0         \n",
            "                                                                 \n",
            " dense_7 (Dense)             (None, 10)                1290      \n",
            "                                                                 \n",
            "=================================================================\n",
            "Total params: 693,962\n",
            "Trainable params: 693,962\n",
            "Non-trainable params: 0\n",
            "_________________________________________________________________\n"
          ]
        }
      ],
      "source": [
        "cnn_tuned_model.summary()"
      ]
    },
    {
      "cell_type": "code",
      "execution_count": 65,
      "id": "basic-beaver",
      "metadata": {
        "colab": {
          "base_uri": "https://localhost:8080/"
        },
        "id": "basic-beaver",
        "outputId": "297c68bf-a97b-4d8f-d150-a1e1f02a35b4"
      },
      "outputs": [
        {
          "output_type": "stream",
          "name": "stdout",
          "text": [
            "Epoch 1/20\n",
            "1875/1875 [==============================] - 59s 31ms/step - loss: 0.4112 - accuracy: 0.8552 - val_loss: 0.3343 - val_accuracy: 0.8825\n",
            "Epoch 2/20\n",
            "1875/1875 [==============================] - 53s 28ms/step - loss: 0.2889 - accuracy: 0.8971 - val_loss: 0.2924 - val_accuracy: 0.8962\n",
            "Epoch 3/20\n",
            "1875/1875 [==============================] - 51s 27ms/step - loss: 0.2627 - accuracy: 0.9070 - val_loss: 0.2750 - val_accuracy: 0.9017\n",
            "Epoch 4/20\n",
            "1875/1875 [==============================] - 51s 27ms/step - loss: 0.2502 - accuracy: 0.9136 - val_loss: 0.3038 - val_accuracy: 0.8979\n",
            "Epoch 5/20\n",
            "1875/1875 [==============================] - 53s 28ms/step - loss: 0.2420 - accuracy: 0.9157 - val_loss: 0.2871 - val_accuracy: 0.9029\n"
          ]
        },
        {
          "output_type": "execute_result",
          "data": {
            "text/plain": [
              "<keras.callbacks.History at 0x7f474acd1c10>"
            ]
          },
          "metadata": {},
          "execution_count": 65
        }
      ],
      "source": [
        "cnn_tuned_model.fit(X_train,y_categorical_train,epochs=20,validation_data=(X_test,y_categorical_test),callbacks=[early_stop])"
      ]
    },
    {
      "cell_type": "code",
      "execution_count": 66,
      "id": "vital-toilet",
      "metadata": {
        "id": "vital-toilet"
      },
      "outputs": [],
      "source": [
        "cnn_model_param_tuned = pd.DataFrame(cnn_tuned_model.history.history)"
      ]
    },
    {
      "cell_type": "code",
      "execution_count": 67,
      "id": "surgical-newark",
      "metadata": {
        "colab": {
          "base_uri": "https://localhost:8080/",
          "height": 206
        },
        "id": "surgical-newark",
        "outputId": "815f0ee4-ca84-4296-b182-8e98d3df0fbc"
      },
      "outputs": [
        {
          "output_type": "execute_result",
          "data": {
            "text/plain": [
              "       loss  accuracy  val_loss  val_accuracy\n",
              "0  0.411202  0.855167  0.334262        0.8825\n",
              "1  0.288907  0.897067  0.292407        0.8962\n",
              "2  0.262676  0.907000  0.275004        0.9017\n",
              "3  0.250200  0.913650  0.303750        0.8979\n",
              "4  0.242043  0.915717  0.287103        0.9029"
            ],
            "text/html": [
              "\n",
              "  <div id=\"df-8ac8fc27-fa93-41a9-aeef-443aae7789e5\">\n",
              "    <div class=\"colab-df-container\">\n",
              "      <div>\n",
              "<style scoped>\n",
              "    .dataframe tbody tr th:only-of-type {\n",
              "        vertical-align: middle;\n",
              "    }\n",
              "\n",
              "    .dataframe tbody tr th {\n",
              "        vertical-align: top;\n",
              "    }\n",
              "\n",
              "    .dataframe thead th {\n",
              "        text-align: right;\n",
              "    }\n",
              "</style>\n",
              "<table border=\"1\" class=\"dataframe\">\n",
              "  <thead>\n",
              "    <tr style=\"text-align: right;\">\n",
              "      <th></th>\n",
              "      <th>loss</th>\n",
              "      <th>accuracy</th>\n",
              "      <th>val_loss</th>\n",
              "      <th>val_accuracy</th>\n",
              "    </tr>\n",
              "  </thead>\n",
              "  <tbody>\n",
              "    <tr>\n",
              "      <th>0</th>\n",
              "      <td>0.411202</td>\n",
              "      <td>0.855167</td>\n",
              "      <td>0.334262</td>\n",
              "      <td>0.8825</td>\n",
              "    </tr>\n",
              "    <tr>\n",
              "      <th>1</th>\n",
              "      <td>0.288907</td>\n",
              "      <td>0.897067</td>\n",
              "      <td>0.292407</td>\n",
              "      <td>0.8962</td>\n",
              "    </tr>\n",
              "    <tr>\n",
              "      <th>2</th>\n",
              "      <td>0.262676</td>\n",
              "      <td>0.907000</td>\n",
              "      <td>0.275004</td>\n",
              "      <td>0.9017</td>\n",
              "    </tr>\n",
              "    <tr>\n",
              "      <th>3</th>\n",
              "      <td>0.250200</td>\n",
              "      <td>0.913650</td>\n",
              "      <td>0.303750</td>\n",
              "      <td>0.8979</td>\n",
              "    </tr>\n",
              "    <tr>\n",
              "      <th>4</th>\n",
              "      <td>0.242043</td>\n",
              "      <td>0.915717</td>\n",
              "      <td>0.287103</td>\n",
              "      <td>0.9029</td>\n",
              "    </tr>\n",
              "  </tbody>\n",
              "</table>\n",
              "</div>\n",
              "      <button class=\"colab-df-convert\" onclick=\"convertToInteractive('df-8ac8fc27-fa93-41a9-aeef-443aae7789e5')\"\n",
              "              title=\"Convert this dataframe to an interactive table.\"\n",
              "              style=\"display:none;\">\n",
              "        \n",
              "  <svg xmlns=\"http://www.w3.org/2000/svg\" height=\"24px\"viewBox=\"0 0 24 24\"\n",
              "       width=\"24px\">\n",
              "    <path d=\"M0 0h24v24H0V0z\" fill=\"none\"/>\n",
              "    <path d=\"M18.56 5.44l.94 2.06.94-2.06 2.06-.94-2.06-.94-.94-2.06-.94 2.06-2.06.94zm-11 1L8.5 8.5l.94-2.06 2.06-.94-2.06-.94L8.5 2.5l-.94 2.06-2.06.94zm10 10l.94 2.06.94-2.06 2.06-.94-2.06-.94-.94-2.06-.94 2.06-2.06.94z\"/><path d=\"M17.41 7.96l-1.37-1.37c-.4-.4-.92-.59-1.43-.59-.52 0-1.04.2-1.43.59L10.3 9.45l-7.72 7.72c-.78.78-.78 2.05 0 2.83L4 21.41c.39.39.9.59 1.41.59.51 0 1.02-.2 1.41-.59l7.78-7.78 2.81-2.81c.8-.78.8-2.07 0-2.86zM5.41 20L4 18.59l7.72-7.72 1.47 1.35L5.41 20z\"/>\n",
              "  </svg>\n",
              "      </button>\n",
              "      \n",
              "  <style>\n",
              "    .colab-df-container {\n",
              "      display:flex;\n",
              "      flex-wrap:wrap;\n",
              "      gap: 12px;\n",
              "    }\n",
              "\n",
              "    .colab-df-convert {\n",
              "      background-color: #E8F0FE;\n",
              "      border: none;\n",
              "      border-radius: 50%;\n",
              "      cursor: pointer;\n",
              "      display: none;\n",
              "      fill: #1967D2;\n",
              "      height: 32px;\n",
              "      padding: 0 0 0 0;\n",
              "      width: 32px;\n",
              "    }\n",
              "\n",
              "    .colab-df-convert:hover {\n",
              "      background-color: #E2EBFA;\n",
              "      box-shadow: 0px 1px 2px rgba(60, 64, 67, 0.3), 0px 1px 3px 1px rgba(60, 64, 67, 0.15);\n",
              "      fill: #174EA6;\n",
              "    }\n",
              "\n",
              "    [theme=dark] .colab-df-convert {\n",
              "      background-color: #3B4455;\n",
              "      fill: #D2E3FC;\n",
              "    }\n",
              "\n",
              "    [theme=dark] .colab-df-convert:hover {\n",
              "      background-color: #434B5C;\n",
              "      box-shadow: 0px 1px 3px 1px rgba(0, 0, 0, 0.15);\n",
              "      filter: drop-shadow(0px 1px 2px rgba(0, 0, 0, 0.3));\n",
              "      fill: #FFFFFF;\n",
              "    }\n",
              "  </style>\n",
              "\n",
              "      <script>\n",
              "        const buttonEl =\n",
              "          document.querySelector('#df-8ac8fc27-fa93-41a9-aeef-443aae7789e5 button.colab-df-convert');\n",
              "        buttonEl.style.display =\n",
              "          google.colab.kernel.accessAllowed ? 'block' : 'none';\n",
              "\n",
              "        async function convertToInteractive(key) {\n",
              "          const element = document.querySelector('#df-8ac8fc27-fa93-41a9-aeef-443aae7789e5');\n",
              "          const dataTable =\n",
              "            await google.colab.kernel.invokeFunction('convertToInteractive',\n",
              "                                                     [key], {});\n",
              "          if (!dataTable) return;\n",
              "\n",
              "          const docLinkHtml = 'Like what you see? Visit the ' +\n",
              "            '<a target=\"_blank\" href=https://colab.research.google.com/notebooks/data_table.ipynb>data table notebook</a>'\n",
              "            + ' to learn more about interactive tables.';\n",
              "          element.innerHTML = '';\n",
              "          dataTable['output_type'] = 'display_data';\n",
              "          await google.colab.output.renderOutput(dataTable, element);\n",
              "          const docLink = document.createElement('div');\n",
              "          docLink.innerHTML = docLinkHtml;\n",
              "          element.appendChild(docLink);\n",
              "        }\n",
              "      </script>\n",
              "    </div>\n",
              "  </div>\n",
              "  "
            ]
          },
          "metadata": {},
          "execution_count": 67
        }
      ],
      "source": [
        "cnn_model_param_tuned"
      ]
    },
    {
      "cell_type": "code",
      "execution_count": 68,
      "id": "accessory-capture",
      "metadata": {
        "colab": {
          "base_uri": "https://localhost:8080/",
          "height": 282
        },
        "id": "accessory-capture",
        "outputId": "8ff68ac3-4cb5-43b9-d6d2-0416517a4b29"
      },
      "outputs": [
        {
          "output_type": "execute_result",
          "data": {
            "text/plain": [
              "<matplotlib.axes._subplots.AxesSubplot at 0x7f474ce41a90>"
            ]
          },
          "metadata": {},
          "execution_count": 68
        },
        {
          "output_type": "display_data",
          "data": {
            "text/plain": [
              "<Figure size 432x288 with 1 Axes>"
            ],
            "image/png": "[encoded data removed]"
          },
          "metadata": {
            "needs_background": "light"
          }
        }
      ],
      "source": [
        "cnn_model_param_tuned[['loss','val_loss']].plot()"
      ]
    },
    {
      "cell_type": "code",
      "execution_count": 69,
      "id": "registered-checklist",
      "metadata": {
        "colab": {
          "base_uri": "https://localhost:8080/",
          "height": 282
        },
        "id": "registered-checklist",
        "outputId": "ec5b0673-de44-4f34-e274-fbcefb452e74"
      },
      "outputs": [
        {
          "output_type": "execute_result",
          "data": {
            "text/plain": [
              "<matplotlib.axes._subplots.AxesSubplot at 0x7f474ce6d890>"
            ]
          },
          "metadata": {},
          "execution_count": 69
        },
        {
          "output_type": "display_data",
          "data": {
            "text/plain": [
              "<Figure size 432x288 with 1 Axes>"
            ],
            "image/png": "[encoded data removed]"
          },
          "metadata": {
            "needs_background": "light"
          }
        }
      ],
      "source": [
        "cnn_model_param_tuned[['accuracy','val_accuracy']].plot()"
      ]
    },
    {
      "cell_type": "code",
      "execution_count": 70,
      "id": "absolute-owner",
      "metadata": {
        "colab": {
          "base_uri": "https://localhost:8080/"
        },
        "id": "absolute-owner",
        "outputId": "fb79d1ea-bc71-4d52-e01c-ab1e61ae335c"
      },
      "outputs": [
        {
          "output_type": "stream",
          "name": "stdout",
          "text": [
            "313/313 [==============================] - 3s 8ms/step\n"
          ]
        }
      ],
      "source": [
        "#cnn_predictions = cnn_tuned_model.predict_classes(X_test)\n",
        "predict_x=cnn_tuned_model.predict(X_test) \n",
        "cnn_predictions=np.argmax(predict_x,axis=1)\n"
      ]
    },
    {
      "cell_type": "code",
      "execution_count": 71,
      "id": "conditional-backup",
      "metadata": {
        "colab": {
          "base_uri": "https://localhost:8080/"
        },
        "id": "conditional-backup",
        "outputId": "3d6f1c9d-e22a-4f2b-da2c-85cac9d64be9"
      },
      "outputs": [
        {
          "output_type": "stream",
          "name": "stdout",
          "text": [
            "              precision    recall  f1-score   support\n",
            "\n",
            "           0       0.85      0.86      0.85      1000\n",
            "           1       0.99      0.97      0.98      1000\n",
            "           2       0.91      0.80      0.85      1000\n",
            "           3       0.86      0.93      0.89      1000\n",
            "           4       0.82      0.90      0.85      1000\n",
            "           5       0.99      0.95      0.97      1000\n",
            "           6       0.75      0.70      0.73      1000\n",
            "           7       0.94      0.96      0.95      1000\n",
            "           8       0.98      0.97      0.98      1000\n",
            "           9       0.95      0.97      0.96      1000\n",
            "\n",
            "    accuracy                           0.90     10000\n",
            "   macro avg       0.90      0.90      0.90     10000\n",
            "weighted avg       0.90      0.90      0.90     10000\n",
            "\n"
          ]
        }
      ],
      "source": [
        "print(classification_report(y_test,cnn_predictions))"
      ]
    },
    {
      "cell_type": "code",
      "execution_count": 72,
      "id": "interpreted-screen",
      "metadata": {
        "id": "interpreted-screen"
      },
      "outputs": [],
      "source": [
        "#Tune further by adding padding"
      ]
    },
    {
      "cell_type": "code",
      "execution_count": 73,
      "id": "monthly-advocate",
      "metadata": {
        "id": "monthly-advocate"
      },
      "outputs": [],
      "source": [
        "cnn_tuned_model = Sequential()\n",
        "\n",
        "\n",
        "cnn_tuned_model.add(Conv2D(filters=32, kernel_size=(3,3),input_shape=(28, 28, 1), activation='relu', padding='valid'))\n",
        "\n",
        "cnn_tuned_model.add(MaxPool2D(pool_size=(2, 2)))\n",
        "\n",
        "\n",
        "cnn_tuned_model.add(Flatten())\n",
        "\n",
        "\n",
        "cnn_tuned_model.add(Dense(128, activation='relu'))\n",
        "cnn_tuned_model.add(Dropout(0.2))\n",
        "\n",
        "\n",
        "cnn_tuned_model.add(Dense(10, activation='softmax'))\n",
        "\n",
        "\n",
        "cnn_tuned_model.compile(loss='categorical_crossentropy',\n",
        "              optimizer='rmsprop',\n",
        "              metrics=['accuracy'])\n"
      ]
    },
    {
      "cell_type": "code",
      "execution_count": 74,
      "id": "downtown-fellow",
      "metadata": {
        "colab": {
          "base_uri": "https://localhost:8080/"
        },
        "id": "downtown-fellow",
        "outputId": "c03f9396-ac96-426a-d6ca-ec481a228310"
      },
      "outputs": [
        {
          "output_type": "stream",
          "name": "stdout",
          "text": [
            "Model: \"sequential_4\"\n",
            "_________________________________________________________________\n",
            " Layer (type)                Output Shape              Param #   \n",
            "=================================================================\n",
            " conv2d_3 (Conv2D)           (None, 26, 26, 32)        320       \n",
            "                                                                 \n",
            " max_pooling2d_3 (MaxPooling  (None, 13, 13, 32)       0         \n",
            " 2D)                                                             \n",
            "                                                                 \n",
            " flatten_4 (Flatten)         (None, 5408)              0         \n",
            "                                                                 \n",
            " dense_8 (Dense)             (None, 128)               692352    \n",
            "                                                                 \n",
            " dropout_1 (Dropout)         (None, 128)               0         \n",
            "                                                                 \n",
            " dense_9 (Dense)             (None, 10)                1290      \n",
            "                                                                 \n",
            "=================================================================\n",
            "Total params: 693,962\n",
            "Trainable params: 693,962\n",
            "Non-trainable params: 0\n",
            "_________________________________________________________________\n"
          ]
        }
      ],
      "source": [
        "cnn_tuned_model.summary()"
      ]
    },
    {
      "cell_type": "code",
      "execution_count": 75,
      "id": "great-scholarship",
      "metadata": {
        "colab": {
          "base_uri": "https://localhost:8080/"
        },
        "id": "great-scholarship",
        "outputId": "54712836-dd09-460c-9a4a-227af017d5ca"
      },
      "outputs": [
        {
          "output_type": "stream",
          "name": "stdout",
          "text": [
            "Epoch 1/20\n",
            "1875/1875 [==============================] - 55s 29ms/step - loss: 0.4074 - accuracy: 0.8564 - val_loss: 0.3047 - val_accuracy: 0.8938\n",
            "Epoch 2/20\n",
            "1875/1875 [==============================] - 52s 28ms/step - loss: 0.2838 - accuracy: 0.9004 - val_loss: 0.2791 - val_accuracy: 0.9018\n",
            "Epoch 3/20\n",
            "1875/1875 [==============================] - 51s 27ms/step - loss: 0.2545 - accuracy: 0.9112 - val_loss: 0.2759 - val_accuracy: 0.9035\n",
            "Epoch 4/20\n",
            "1875/1875 [==============================] - 53s 28ms/step - loss: 0.2431 - accuracy: 0.9154 - val_loss: 0.2682 - val_accuracy: 0.9053\n",
            "Epoch 5/20\n",
            "1875/1875 [==============================] - 52s 28ms/step - loss: 0.2353 - accuracy: 0.9185 - val_loss: 0.2775 - val_accuracy: 0.9059\n",
            "Epoch 6/20\n",
            "1875/1875 [==============================] - 52s 28ms/step - loss: 0.2304 - accuracy: 0.9195 - val_loss: 0.3095 - val_accuracy: 0.9052\n"
          ]
        },
        {
          "output_type": "execute_result",
          "data": {
            "text/plain": [
              "<keras.callbacks.History at 0x7f474ce6b350>"
            ]
          },
          "metadata": {},
          "execution_count": 75
        }
      ],
      "source": [
        "cnn_tuned_model.fit(X_train,y_categorical_train,epochs=20,validation_data=(X_test,y_categorical_test),callbacks=[early_stop])"
      ]
    },
    {
      "cell_type": "code",
      "execution_count": 76,
      "id": "domestic-volume",
      "metadata": {
        "id": "domestic-volume"
      },
      "outputs": [],
      "source": [
        "cnn_model_param_tuned = pd.DataFrame(cnn_tuned_model.history.history)"
      ]
    },
    {
      "cell_type": "code",
      "execution_count": 77,
      "id": "popular-exhaust",
      "metadata": {
        "colab": {
          "base_uri": "https://localhost:8080/",
          "height": 238
        },
        "id": "popular-exhaust",
        "outputId": "83fd9448-b8a2-4759-b48a-fe97bb1333ee"
      },
      "outputs": [
        {
          "output_type": "execute_result",
          "data": {
            "text/plain": [
              "       loss  accuracy  val_loss  val_accuracy\n",
              "0  0.407402  0.856417  0.304708        0.8938\n",
              "1  0.283787  0.900417  0.279123        0.9018\n",
              "2  0.254502  0.911233  0.275914        0.9035\n",
              "3  0.243091  0.915450  0.268249        0.9053\n",
              "4  0.235261  0.918483  0.277466        0.9059\n",
              "5  0.230382  0.919483  0.309509        0.9052"
            ],
            "text/html": [
              "\n",
              "  <div id=\"df-642400be-760f-42b4-9eb2-063c6cac33d8\">\n",
              "    <div class=\"colab-df-container\">\n",
              "      <div>\n",
              "<style scoped>\n",
              "    .dataframe tbody tr th:only-of-type {\n",
              "        vertical-align: middle;\n",
              "    }\n",
              "\n",
              "    .dataframe tbody tr th {\n",
              "        vertical-align: top;\n",
              "    }\n",
              "\n",
              "    .dataframe thead th {\n",
              "        text-align: right;\n",
              "    }\n",
              "</style>\n",
              "<table border=\"1\" class=\"dataframe\">\n",
              "  <thead>\n",
              "    <tr style=\"text-align: right;\">\n",
              "      <th></th>\n",
              "      <th>loss</th>\n",
              "      <th>accuracy</th>\n",
              "      <th>val_loss</th>\n",
              "      <th>val_accuracy</th>\n",
              "    </tr>\n",
              "  </thead>\n",
              "  <tbody>\n",
              "    <tr>\n",
              "      <th>0</th>\n",
              "      <td>0.407402</td>\n",
              "      <td>0.856417</td>\n",
              "      <td>0.304708</td>\n",
              "      <td>0.8938</td>\n",
              "    </tr>\n",
              "    <tr>\n",
              "      <th>1</th>\n",
              "      <td>0.283787</td>\n",
              "      <td>0.900417</td>\n",
              "      <td>0.279123</td>\n",
              "      <td>0.9018</td>\n",
              "    </tr>\n",
              "    <tr>\n",
              "      <th>2</th>\n",
              "      <td>0.254502</td>\n",
              "      <td>0.911233</td>\n",
              "      <td>0.275914</td>\n",
              "      <td>0.9035</td>\n",
              "    </tr>\n",
              "    <tr>\n",
              "      <th>3</th>\n",
              "      <td>0.243091</td>\n",
              "      <td>0.915450</td>\n",
              "      <td>0.268249</td>\n",
              "      <td>0.9053</td>\n",
              "    </tr>\n",
              "    <tr>\n",
              "      <th>4</th>\n",
              "      <td>0.235261</td>\n",
              "      <td>0.918483</td>\n",
              "      <td>0.277466</td>\n",
              "      <td>0.9059</td>\n",
              "    </tr>\n",
              "    <tr>\n",
              "      <th>5</th>\n",
              "      <td>0.230382</td>\n",
              "      <td>0.919483</td>\n",
              "      <td>0.309509</td>\n",
              "      <td>0.9052</td>\n",
              "    </tr>\n",
              "  </tbody>\n",
              "</table>\n",
              "</div>\n",
              "      <button class=\"colab-df-convert\" onclick=\"convertToInteractive('df-642400be-760f-42b4-9eb2-063c6cac33d8')\"\n",
              "              title=\"Convert this dataframe to an interactive table.\"\n",
              "              style=\"display:none;\">\n",
              "        \n",
              "  <svg xmlns=\"http://www.w3.org/2000/svg\" height=\"24px\"viewBox=\"0 0 24 24\"\n",
              "       width=\"24px\">\n",
              "    <path d=\"M0 0h24v24H0V0z\" fill=\"none\"/>\n",
              "    <path d=\"M18.56 5.44l.94 2.06.94-2.06 2.06-.94-2.06-.94-.94-2.06-.94 2.06-2.06.94zm-11 1L8.5 8.5l.94-2.06 2.06-.94-2.06-.94L8.5 2.5l-.94 2.06-2.06.94zm10 10l.94 2.06.94-2.06 2.06-.94-2.06-.94-.94-2.06-.94 2.06-2.06.94z\"/><path d=\"M17.41 7.96l-1.37-1.37c-.4-.4-.92-.59-1.43-.59-.52 0-1.04.2-1.43.59L10.3 9.45l-7.72 7.72c-.78.78-.78 2.05 0 2.83L4 21.41c.39.39.9.59 1.41.59.51 0 1.02-.2 1.41-.59l7.78-7.78 2.81-2.81c.8-.78.8-2.07 0-2.86zM5.41 20L4 18.59l7.72-7.72 1.47 1.35L5.41 20z\"/>\n",
              "  </svg>\n",
              "      </button>\n",
              "      \n",
              "  <style>\n",
              "    .colab-df-container {\n",
              "      display:flex;\n",
              "      flex-wrap:wrap;\n",
              "      gap: 12px;\n",
              "    }\n",
              "\n",
              "    .colab-df-convert {\n",
              "      background-color: #E8F0FE;\n",
              "      border: none;\n",
              "      border-radius: 50%;\n",
              "      cursor: pointer;\n",
              "      display: none;\n",
              "      fill: #1967D2;\n",
              "      height: 32px;\n",
              "      padding: 0 0 0 0;\n",
              "      width: 32px;\n",
              "    }\n",
              "\n",
              "    .colab-df-convert:hover {\n",
              "      background-color: #E2EBFA;\n",
              "      box-shadow: 0px 1px 2px rgba(60, 64, 67, 0.3), 0px 1px 3px 1px rgba(60, 64, 67, 0.15);\n",
              "      fill: #174EA6;\n",
              "    }\n",
              "\n",
              "    [theme=dark] .colab-df-convert {\n",
              "      background-color: #3B4455;\n",
              "      fill: #D2E3FC;\n",
              "    }\n",
              "\n",
              "    [theme=dark] .colab-df-convert:hover {\n",
              "      background-color: #434B5C;\n",
              "      box-shadow: 0px 1px 3px 1px rgba(0, 0, 0, 0.15);\n",
              "      filter: drop-shadow(0px 1px 2px rgba(0, 0, 0, 0.3));\n",
              "      fill: #FFFFFF;\n",
              "    }\n",
              "  </style>\n",
              "\n",
              "      <script>\n",
              "        const buttonEl =\n",
              "          document.querySelector('#df-642400be-760f-42b4-9eb2-063c6cac33d8 button.colab-df-convert');\n",
              "        buttonEl.style.display =\n",
              "          google.colab.kernel.accessAllowed ? 'block' : 'none';\n",
              "\n",
              "        async function convertToInteractive(key) {\n",
              "          const element = document.querySelector('#df-642400be-760f-42b4-9eb2-063c6cac33d8');\n",
              "          const dataTable =\n",
              "            await google.colab.kernel.invokeFunction('convertToInteractive',\n",
              "                                                     [key], {});\n",
              "          if (!dataTable) return;\n",
              "\n",
              "          const docLinkHtml = 'Like what you see? Visit the ' +\n",
              "            '<a target=\"_blank\" href=https://colab.research.google.com/notebooks/data_table.ipynb>data table notebook</a>'\n",
              "            + ' to learn more about interactive tables.';\n",
              "          element.innerHTML = '';\n",
              "          dataTable['output_type'] = 'display_data';\n",
              "          await google.colab.output.renderOutput(dataTable, element);\n",
              "          const docLink = document.createElement('div');\n",
              "          docLink.innerHTML = docLinkHtml;\n",
              "          element.appendChild(docLink);\n",
              "        }\n",
              "      </script>\n",
              "    </div>\n",
              "  </div>\n",
              "  "
            ]
          },
          "metadata": {},
          "execution_count": 77
        }
      ],
      "source": [
        "cnn_model_param_tuned"
      ]
    },
    {
      "cell_type": "code",
      "execution_count": 78,
      "id": "talented-scientist",
      "metadata": {
        "colab": {
          "base_uri": "https://localhost:8080/",
          "height": 282
        },
        "id": "talented-scientist",
        "outputId": "472673d6-5bdb-4568-d499-8f98c6bb3ace"
      },
      "outputs": [
        {
          "output_type": "execute_result",
          "data": {
            "text/plain": [
              "<matplotlib.axes._subplots.AxesSubplot at 0x7f474cb49110>"
            ]
          },
          "metadata": {},
          "execution_count": 78
        },
        {
          "output_type": "display_data",
          "data": {
            "text/plain": [
              "<Figure size 432x288 with 1 Axes>"
            ],
            "image/png": "[encoded data removed]"
          },
          "metadata": {
            "needs_background": "light"
          }
        }
      ],
      "source": [
        "cnn_model_param_tuned[['loss','val_loss']].plot()"
      ]
    },
    {
      "cell_type": "code",
      "execution_count": 79,
      "id": "fresh-institution",
      "metadata": {
        "colab": {
          "base_uri": "https://localhost:8080/",
          "height": 282
        },
        "id": "fresh-institution",
        "outputId": "f28b4f78-eced-483f-f2c8-9bd635ae9cb7"
      },
      "outputs": [
        {
          "output_type": "execute_result",
          "data": {
            "text/plain": [
              "<matplotlib.axes._subplots.AxesSubplot at 0x7f474cb66750>"
            ]
          },
          "metadata": {},
          "execution_count": 79
        },
        {
          "output_type": "display_data",
          "data": {
            "text/plain": [
              "<Figure size 432x288 with 1 Axes>"
            ],
            "image/png": "[encoded data removed]"
          },
          "metadata": {
            "needs_background": "light"
          }
        }
      ],
      "source": [
        "cnn_model_param_tuned[['accuracy','val_accuracy']].plot()"
      ]
    },
    {
      "cell_type": "code",
      "execution_count": 82,
      "id": "occupational-physics",
      "metadata": {
        "colab": {
          "base_uri": "https://localhost:8080/"
        },
        "id": "occupational-physics",
        "outputId": "e7aa381b-7494-48d0-97ed-a930778e3d98"
      },
      "outputs": [
        {
          "output_type": "stream",
          "name": "stdout",
          "text": [
            "313/313 [==============================] - 3s 8ms/step - loss: 0.3095 - accuracy: 0.9052\n"
          ]
        },
        {
          "output_type": "execute_result",
          "data": {
            "text/plain": [
              "[0.3095092177391052, 0.9052000045776367]"
            ]
          },
          "metadata": {},
          "execution_count": 82
        }
      ],
      "source": [
        "cnn_tuned_model.evaluate(X_test,y_categorical_test)"
      ]
    },
    {
      "cell_type": "code",
      "execution_count": 80,
      "id": "supported-ecology",
      "metadata": {
        "colab": {
          "base_uri": "https://localhost:8080/"
        },
        "id": "supported-ecology",
        "outputId": "2beac530-9e9f-4dd7-9be1-12236ae4dc42"
      },
      "outputs": [
        {
          "output_type": "stream",
          "name": "stdout",
          "text": [
            "313/313 [==============================] - 3s 8ms/step\n"
          ]
        }
      ],
      "source": [
        "#cnn_predictions = cnn_tuned_model.predict_classes(X_test)\n",
        "predict_x=cnn_tuned_model.predict(X_test) \n",
        "cnn_predictions=np.argmax(predict_x,axis=1)\n",
        "\n"
      ]
    },
    {
      "cell_type": "code",
      "execution_count": 81,
      "id": "falling-replica",
      "metadata": {
        "colab": {
          "base_uri": "https://localhost:8080/"
        },
        "id": "falling-replica",
        "outputId": "5c53f336-da38-4c01-b857-a092b1dbdd16"
      },
      "outputs": [
        {
          "output_type": "stream",
          "name": "stdout",
          "text": [
            "              precision    recall  f1-score   support\n",
            "\n",
            "           0       0.83      0.88      0.85      1000\n",
            "           1       1.00      0.97      0.98      1000\n",
            "           2       0.84      0.87      0.86      1000\n",
            "           3       0.84      0.96      0.90      1000\n",
            "           4       0.84      0.87      0.85      1000\n",
            "           5       0.98      0.97      0.98      1000\n",
            "           6       0.82      0.62      0.71      1000\n",
            "           7       0.95      0.97      0.96      1000\n",
            "           8       0.98      0.98      0.98      1000\n",
            "           9       0.97      0.96      0.97      1000\n",
            "\n",
            "    accuracy                           0.91     10000\n",
            "   macro avg       0.91      0.91      0.90     10000\n",
            "weighted avg       0.91      0.91      0.90     10000\n",
            "\n"
          ]
        }
      ],
      "source": [
        "print(classification_report(y_test,cnn_predictions))"
      ]
    },
    {
      "cell_type": "code",
      "execution_count": null,
      "id": "super-cedar",
      "metadata": {
        "id": "super-cedar"
      },
      "outputs": [],
      "source": []
    }
  ],
  "metadata": {
    "kernelspec": {
      "display_name": "Python 3",
      "language": "python",
      "name": "python3"
    },
    "language_info": {
      "codemirror_mode": {
        "name": "ipython",
        "version": 3
      },
      "file_extension": ".py",
      "mimetype": "text/x-python",
      "name": "python",
      "nbconvert_exporter": "python",
      "pygments_lexer": "ipython3",
      "version": "3.8.5"
    },
    "colab": {
      "provenance": [],
      "collapsed_sections": [],
      "include_colab_link": true
    }
  },
  "nbformat": 4,
  "nbformat_minor": 5
}